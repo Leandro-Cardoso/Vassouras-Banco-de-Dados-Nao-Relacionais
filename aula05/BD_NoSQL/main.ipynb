{
 "cells": [
  {
   "cell_type": "code",
   "execution_count": null,
   "id": "6afe262f",
   "metadata": {},
   "outputs": [
    {
     "data": {
      "text/plain": [
       "InsertOneResult(ObjectId('68d72e3bf4233a2a0b67ed24'), acknowledged=True)"
      ]
     },
     "execution_count": 16,
     "metadata": {},
     "output_type": "execute_result"
    }
   ],
   "source": [
    "from pymongo import MongoClient\n",
    "\n",
    "# Conexão\n",
    "client = MongoClient(\"mongodb://localhost:27017\")\n",
    "db = client.aula-crud\n",
    "alunos = db.aluno\n",
    "\n",
    "alunos.insert_one({\n",
    "    \"nome\": \"Zé da Manga\",\n",
    "    \"idade\": 23,\n",
    "    \"curso\": \"Engenharia\",\n",
    "    \"notas\": [8.5, 9.0, 7.0],\n",
    "    \"ativo\": True\n",
    "})"
   ]
  },
  {
   "cell_type": "code",
   "execution_count": 10,
   "id": "63991f3d",
   "metadata": {},
   "outputs": [
    {
     "name": "stdout",
     "output_type": "stream",
     "text": [
      "Banco de dados atual: demonstracao\n"
     ]
    }
   ],
   "source": [
    "from pymongo import MongoClient\n",
    "\n",
    "# Conectar ao MongoDB\n",
    "client = MongoClient(\"mongodb://localhost:27017/\")  # Modifique o URI se necessário\n",
    "\n",
    "# Criar/Selecionar o banco de dados\n",
    "db = client['demonstracao']\n",
    "\n",
    "# Verificar o nome do banco de dados\n",
    "print(f\"Banco de dados atual: {db.name}\")\n",
    "\n",
    "# Inserir documentos de livros\n",
    "livros = db.livros"
   ]
  },
  {
   "cell_type": "code",
   "execution_count": 11,
   "id": "d9549865",
   "metadata": {},
   "outputs": [
    {
     "name": "stdout",
     "output_type": "stream",
     "text": [
      "Banco de dados atual: demonstracao\n",
      "Livros inseridos com sucesso!\n"
     ]
    }
   ],
   "source": [
    "\n",
    "\n",
    "# Verificar o nome do banco de dados\n",
    "print(f\"Banco de dados atual: {db.name}\")\n",
    "\n",
    "# Inserir documentos de livros\n",
    "livros = db.livros\n",
    "\n",
    "# Inserir um livro único\n",
    "livros.insert_one({\n",
    "    \"titulo\": \"1984\",\n",
    "    \"autor\": \"George Orwell\",\n",
    "    \"ano\": 1949,\n",
    "    \"genero\": [\"Ficção\", \"Distopia\"],\n",
    "    \"disponivel\": True,\n",
    "    \"avaliacoes\": [\n",
    "        {\"usuario\": \"maria\", \"nota\": 5, \"comentario\": \"Obra-prima!\"}\n",
    "    ]\n",
    "})\n",
    "\n",
    "# Inserir múltiplos livros\n",
    "livros.insert_many([\n",
    "    {\n",
    "        \"titulo\": \"Dom Casmurro\",\n",
    "        \"autor\": \"Machado de Assis\",\n",
    "        \"ano\": 1899,\n",
    "        \"genero\": [\"Romance\", \"Literatura Brasileira\"],\n",
    "        \"disponivel\": True\n",
    "    },\n",
    "    {\n",
    "        \"titulo\": \"O Senhor dos Anéis\",\n",
    "        \"autor\": \"J.R.R. Tolkien\",\n",
    "        \"ano\": 1954,\n",
    "        \"genero\": [\"Fantasia\"],\n",
    "        \"disponivel\": False\n",
    "    }\n",
    "])\n",
    "\n",
    "print(\"Livros inseridos com sucesso!\")\n"
   ]
  },
  {
   "cell_type": "code",
   "execution_count": 7,
   "id": "92771e00",
   "metadata": {},
   "outputs": [
    {
     "name": "stdout",
     "output_type": "stream",
     "text": [
      "{'_id': ObjectId('68d7171f6f7e7efcaf578e3e'), 'nome': 'Zé da Manga', 'idade': 23, 'curso': 'Engenharia de Software', 'nota': [8.5, 9, 7], 'ativo': False}\n",
      "{'_id': ObjectId('68d719026f7e7efcaf578e3f'), 'nome': 'Bruno', 'idade': 21, 'curso': 'Medicina', 'ativo': True, 'notas': [8.5, 9, 10]}\n",
      "{'_id': ObjectId('68d719026f7e7efcaf578e40'), 'nome': 'Carla', 'idade': 25, 'curso': 'Direito', 'notas': [7, 6.5, 8], 'ativo': False}\n",
      "{'_id': ObjectId('68d719026f7e7efcaf578e41'), 'nome': 'Diego', 'idade': 22, 'curso': 'Computação', 'notas': [8, 9], 'ativo': True}\n"
     ]
    }
   ],
   "source": [
    "from pymongo import MongoClient\n",
    "\n",
    "# Conectar ao MongoDB\n",
    "client = MongoClient(\"mongodb://localhost:27017/\")  # Modifique o URI se necessário\n",
    "\n",
    "# Criar/Selecionar o banco de dados\n",
    "db = client['revisao']\n",
    "\n",
    "aula_crud = db.aula_1\n",
    "\n",
    "resultados = aula_crud.find()\n",
    "\n",
    "# Exibir os resultados\n",
    "for documento in resultados:\n",
    "    print(documento)"
   ]
  },
  {
   "cell_type": "code",
   "execution_count": null,
   "id": "4010a07a",
   "metadata": {},
   "outputs": [],
   "source": []
  }
 ],
 "metadata": {
  "kernelspec": {
   "display_name": ".venv",
   "language": "python",
   "name": "python3"
  },
  "language_info": {
   "codemirror_mode": {
    "name": "ipython",
    "version": 3
   },
   "file_extension": ".py",
   "mimetype": "text/x-python",
   "name": "python",
   "nbconvert_exporter": "python",
   "pygments_lexer": "ipython3",
   "version": "3.13.6"
  }
 },
 "nbformat": 4,
 "nbformat_minor": 5
}
